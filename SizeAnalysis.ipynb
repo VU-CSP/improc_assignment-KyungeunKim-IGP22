{
  "cells": [
    {
      "cell_type": "markdown",
      "metadata": {
        "id": "view-in-github",
        "colab_type": "text"
      },
      "source": [
        "<a href=\"https://colab.research.google.com/github/VU-CSP/improc_assignment-KyungeunKim-IGP22/blob/main/SizeAnalysis.ipynb\" target=\"_parent\"><img src=\"https://colab.research.google.com/assets/colab-badge.svg\" alt=\"Open In Colab\"/></a>"
      ]
    },
    {
      "cell_type": "code",
      "execution_count": null,
      "id": "6aef3847-ab37-42cd-9f62-fd6a512d36a7",
      "metadata": {
        "id": "6aef3847-ab37-42cd-9f62-fd6a512d36a7"
      },
      "outputs": [],
      "source": [
        "import pandas as pd\n",
        "import numpy as np\n",
        "import seaborn as sns"
      ]
    },
    {
      "cell_type": "code",
      "source": [
        "measurements = pd.read_csv(\"Results.csv\")\n",
        "measurements"
      ],
      "metadata": {
        "colab": {
          "base_uri": "https://localhost:8080/",
          "height": 423
        },
        "id": "VbIoQ-SKR2m1",
        "outputId": "a803c6a6-bd3b-4530-cb42-7e8e8f1ed10c"
      },
      "id": "VbIoQ-SKR2m1",
      "execution_count": null,
      "outputs": [
        {
          "output_type": "execute_result",
          "data": {
            "text/plain": [
              "                   Label  Area  Mean  Min  Max  Perim.  IntDen  RawIntDen\n",
              "0        1  22946173.tif   433   255  255  255  75.841  110415     110415\n",
              "1        2  22946173.tif   304   255  255  255  63.941   77520      77520\n",
              "2        3  22946173.tif   274   255  255  255  60.770   69870      69870\n",
              "3        4  22946173.tif   456   255  255  255  83.983  116280     116280\n",
              "4        5  22946173.tif   259   255  255  255  60.770   66045      66045\n",
              "...    ...           ...   ...   ...  ...  ...     ...     ...        ...\n",
              "2247  2248  22946173.tif   449   255  255  255  83.255  114495     114495\n",
              "2248  2249  22946173.tif   408   255  255  255  74.426  104040     104040\n",
              "2249  2250  22946173.tif   350   255  255  255  69.113   89250      89250\n",
              "2250  2251  22946173.tif   310   255  255  255  66.184   79050      79050\n",
              "2251  2252  22946173.tif   310   255  255  255  65.012   79050      79050\n",
              "\n",
              "[2252 rows x 9 columns]"
            ],
            "text/html": [
              "\n",
              "  <div id=\"df-8dec4876-9996-4a50-9659-6cd57a919f7a\">\n",
              "    <div class=\"colab-df-container\">\n",
              "      <div>\n",
              "<style scoped>\n",
              "    .dataframe tbody tr th:only-of-type {\n",
              "        vertical-align: middle;\n",
              "    }\n",
              "\n",
              "    .dataframe tbody tr th {\n",
              "        vertical-align: top;\n",
              "    }\n",
              "\n",
              "    .dataframe thead th {\n",
              "        text-align: right;\n",
              "    }\n",
              "</style>\n",
              "<table border=\"1\" class=\"dataframe\">\n",
              "  <thead>\n",
              "    <tr style=\"text-align: right;\">\n",
              "      <th></th>\n",
              "      <th></th>\n",
              "      <th>Label</th>\n",
              "      <th>Area</th>\n",
              "      <th>Mean</th>\n",
              "      <th>Min</th>\n",
              "      <th>Max</th>\n",
              "      <th>Perim.</th>\n",
              "      <th>IntDen</th>\n",
              "      <th>RawIntDen</th>\n",
              "    </tr>\n",
              "  </thead>\n",
              "  <tbody>\n",
              "    <tr>\n",
              "      <th>0</th>\n",
              "      <td>1</td>\n",
              "      <td>22946173.tif</td>\n",
              "      <td>433</td>\n",
              "      <td>255</td>\n",
              "      <td>255</td>\n",
              "      <td>255</td>\n",
              "      <td>75.841</td>\n",
              "      <td>110415</td>\n",
              "      <td>110415</td>\n",
              "    </tr>\n",
              "    <tr>\n",
              "      <th>1</th>\n",
              "      <td>2</td>\n",
              "      <td>22946173.tif</td>\n",
              "      <td>304</td>\n",
              "      <td>255</td>\n",
              "      <td>255</td>\n",
              "      <td>255</td>\n",
              "      <td>63.941</td>\n",
              "      <td>77520</td>\n",
              "      <td>77520</td>\n",
              "    </tr>\n",
              "    <tr>\n",
              "      <th>2</th>\n",
              "      <td>3</td>\n",
              "      <td>22946173.tif</td>\n",
              "      <td>274</td>\n",
              "      <td>255</td>\n",
              "      <td>255</td>\n",
              "      <td>255</td>\n",
              "      <td>60.770</td>\n",
              "      <td>69870</td>\n",
              "      <td>69870</td>\n",
              "    </tr>\n",
              "    <tr>\n",
              "      <th>3</th>\n",
              "      <td>4</td>\n",
              "      <td>22946173.tif</td>\n",
              "      <td>456</td>\n",
              "      <td>255</td>\n",
              "      <td>255</td>\n",
              "      <td>255</td>\n",
              "      <td>83.983</td>\n",
              "      <td>116280</td>\n",
              "      <td>116280</td>\n",
              "    </tr>\n",
              "    <tr>\n",
              "      <th>4</th>\n",
              "      <td>5</td>\n",
              "      <td>22946173.tif</td>\n",
              "      <td>259</td>\n",
              "      <td>255</td>\n",
              "      <td>255</td>\n",
              "      <td>255</td>\n",
              "      <td>60.770</td>\n",
              "      <td>66045</td>\n",
              "      <td>66045</td>\n",
              "    </tr>\n",
              "    <tr>\n",
              "      <th>...</th>\n",
              "      <td>...</td>\n",
              "      <td>...</td>\n",
              "      <td>...</td>\n",
              "      <td>...</td>\n",
              "      <td>...</td>\n",
              "      <td>...</td>\n",
              "      <td>...</td>\n",
              "      <td>...</td>\n",
              "      <td>...</td>\n",
              "    </tr>\n",
              "    <tr>\n",
              "      <th>2247</th>\n",
              "      <td>2248</td>\n",
              "      <td>22946173.tif</td>\n",
              "      <td>449</td>\n",
              "      <td>255</td>\n",
              "      <td>255</td>\n",
              "      <td>255</td>\n",
              "      <td>83.255</td>\n",
              "      <td>114495</td>\n",
              "      <td>114495</td>\n",
              "    </tr>\n",
              "    <tr>\n",
              "      <th>2248</th>\n",
              "      <td>2249</td>\n",
              "      <td>22946173.tif</td>\n",
              "      <td>408</td>\n",
              "      <td>255</td>\n",
              "      <td>255</td>\n",
              "      <td>255</td>\n",
              "      <td>74.426</td>\n",
              "      <td>104040</td>\n",
              "      <td>104040</td>\n",
              "    </tr>\n",
              "    <tr>\n",
              "      <th>2249</th>\n",
              "      <td>2250</td>\n",
              "      <td>22946173.tif</td>\n",
              "      <td>350</td>\n",
              "      <td>255</td>\n",
              "      <td>255</td>\n",
              "      <td>255</td>\n",
              "      <td>69.113</td>\n",
              "      <td>89250</td>\n",
              "      <td>89250</td>\n",
              "    </tr>\n",
              "    <tr>\n",
              "      <th>2250</th>\n",
              "      <td>2251</td>\n",
              "      <td>22946173.tif</td>\n",
              "      <td>310</td>\n",
              "      <td>255</td>\n",
              "      <td>255</td>\n",
              "      <td>255</td>\n",
              "      <td>66.184</td>\n",
              "      <td>79050</td>\n",
              "      <td>79050</td>\n",
              "    </tr>\n",
              "    <tr>\n",
              "      <th>2251</th>\n",
              "      <td>2252</td>\n",
              "      <td>22946173.tif</td>\n",
              "      <td>310</td>\n",
              "      <td>255</td>\n",
              "      <td>255</td>\n",
              "      <td>255</td>\n",
              "      <td>65.012</td>\n",
              "      <td>79050</td>\n",
              "      <td>79050</td>\n",
              "    </tr>\n",
              "  </tbody>\n",
              "</table>\n",
              "<p>2252 rows × 9 columns</p>\n",
              "</div>\n",
              "      <button class=\"colab-df-convert\" onclick=\"convertToInteractive('df-8dec4876-9996-4a50-9659-6cd57a919f7a')\"\n",
              "              title=\"Convert this dataframe to an interactive table.\"\n",
              "              style=\"display:none;\">\n",
              "        \n",
              "  <svg xmlns=\"http://www.w3.org/2000/svg\" height=\"24px\"viewBox=\"0 0 24 24\"\n",
              "       width=\"24px\">\n",
              "    <path d=\"M0 0h24v24H0V0z\" fill=\"none\"/>\n",
              "    <path d=\"M18.56 5.44l.94 2.06.94-2.06 2.06-.94-2.06-.94-.94-2.06-.94 2.06-2.06.94zm-11 1L8.5 8.5l.94-2.06 2.06-.94-2.06-.94L8.5 2.5l-.94 2.06-2.06.94zm10 10l.94 2.06.94-2.06 2.06-.94-2.06-.94-.94-2.06-.94 2.06-2.06.94z\"/><path d=\"M17.41 7.96l-1.37-1.37c-.4-.4-.92-.59-1.43-.59-.52 0-1.04.2-1.43.59L10.3 9.45l-7.72 7.72c-.78.78-.78 2.05 0 2.83L4 21.41c.39.39.9.59 1.41.59.51 0 1.02-.2 1.41-.59l7.78-7.78 2.81-2.81c.8-.78.8-2.07 0-2.86zM5.41 20L4 18.59l7.72-7.72 1.47 1.35L5.41 20z\"/>\n",
              "  </svg>\n",
              "      </button>\n",
              "      \n",
              "  <style>\n",
              "    .colab-df-container {\n",
              "      display:flex;\n",
              "      flex-wrap:wrap;\n",
              "      gap: 12px;\n",
              "    }\n",
              "\n",
              "    .colab-df-convert {\n",
              "      background-color: #E8F0FE;\n",
              "      border: none;\n",
              "      border-radius: 50%;\n",
              "      cursor: pointer;\n",
              "      display: none;\n",
              "      fill: #1967D2;\n",
              "      height: 32px;\n",
              "      padding: 0 0 0 0;\n",
              "      width: 32px;\n",
              "    }\n",
              "\n",
              "    .colab-df-convert:hover {\n",
              "      background-color: #E2EBFA;\n",
              "      box-shadow: 0px 1px 2px rgba(60, 64, 67, 0.3), 0px 1px 3px 1px rgba(60, 64, 67, 0.15);\n",
              "      fill: #174EA6;\n",
              "    }\n",
              "\n",
              "    [theme=dark] .colab-df-convert {\n",
              "      background-color: #3B4455;\n",
              "      fill: #D2E3FC;\n",
              "    }\n",
              "\n",
              "    [theme=dark] .colab-df-convert:hover {\n",
              "      background-color: #434B5C;\n",
              "      box-shadow: 0px 1px 3px 1px rgba(0, 0, 0, 0.15);\n",
              "      filter: drop-shadow(0px 1px 2px rgba(0, 0, 0, 0.3));\n",
              "      fill: #FFFFFF;\n",
              "    }\n",
              "  </style>\n",
              "\n",
              "      <script>\n",
              "        const buttonEl =\n",
              "          document.querySelector('#df-8dec4876-9996-4a50-9659-6cd57a919f7a button.colab-df-convert');\n",
              "        buttonEl.style.display =\n",
              "          google.colab.kernel.accessAllowed ? 'block' : 'none';\n",
              "\n",
              "        async function convertToInteractive(key) {\n",
              "          const element = document.querySelector('#df-8dec4876-9996-4a50-9659-6cd57a919f7a');\n",
              "          const dataTable =\n",
              "            await google.colab.kernel.invokeFunction('convertToInteractive',\n",
              "                                                     [key], {});\n",
              "          if (!dataTable) return;\n",
              "\n",
              "          const docLinkHtml = 'Like what you see? Visit the ' +\n",
              "            '<a target=\"_blank\" href=https://colab.research.google.com/notebooks/data_table.ipynb>data table notebook</a>'\n",
              "            + ' to learn more about interactive tables.';\n",
              "          element.innerHTML = '';\n",
              "          dataTable['output_type'] = 'display_data';\n",
              "          await google.colab.output.renderOutput(dataTable, element);\n",
              "          const docLink = document.createElement('div');\n",
              "          docLink.innerHTML = docLinkHtml;\n",
              "          element.appendChild(docLink);\n",
              "        }\n",
              "      </script>\n",
              "    </div>\n",
              "  </div>\n",
              "  "
            ]
          },
          "metadata": {},
          "execution_count": 17
        }
      ]
    },
    {
      "cell_type": "code",
      "source": [
        "measurements.head"
      ],
      "metadata": {
        "colab": {
          "base_uri": "https://localhost:8080/"
        },
        "id": "jnw7jJaUSfr9",
        "outputId": "6a561ec7-4410-4f37-af5b-e17d76a76bc5"
      },
      "id": "jnw7jJaUSfr9",
      "execution_count": null,
      "outputs": [
        {
          "output_type": "execute_result",
          "data": {
            "text/plain": [
              "<bound method NDFrame.head of                    Label  Area  Mean  Min  Max  Perim.  IntDen  RawIntDen\n",
              "0        1  22946173.tif   433   255  255  255  75.841  110415     110415\n",
              "1        2  22946173.tif   304   255  255  255  63.941   77520      77520\n",
              "2        3  22946173.tif   274   255  255  255  60.770   69870      69870\n",
              "3        4  22946173.tif   456   255  255  255  83.983  116280     116280\n",
              "4        5  22946173.tif   259   255  255  255  60.770   66045      66045\n",
              "...    ...           ...   ...   ...  ...  ...     ...     ...        ...\n",
              "2247  2248  22946173.tif   449   255  255  255  83.255  114495     114495\n",
              "2248  2249  22946173.tif   408   255  255  255  74.426  104040     104040\n",
              "2249  2250  22946173.tif   350   255  255  255  69.113   89250      89250\n",
              "2250  2251  22946173.tif   310   255  255  255  66.184   79050      79050\n",
              "2251  2252  22946173.tif   310   255  255  255  65.012   79050      79050\n",
              "\n",
              "[2252 rows x 9 columns]>"
            ]
          },
          "metadata": {},
          "execution_count": 18
        }
      ]
    },
    {
      "cell_type": "code",
      "source": [
        "sns.histplot(measurements, x = \"Area\")"
      ],
      "metadata": {
        "colab": {
          "base_uri": "https://localhost:8080/",
          "height": 297
        },
        "id": "XrgJnVQzUJOh",
        "outputId": "f1b9cc78-f732-456a-d229-564be910f6c1"
      },
      "id": "XrgJnVQzUJOh",
      "execution_count": null,
      "outputs": [
        {
          "output_type": "execute_result",
          "data": {
            "text/plain": [
              "<AxesSubplot:xlabel='Area', ylabel='Count'>"
            ]
          },
          "metadata": {},
          "execution_count": 19
        },
        {
          "output_type": "display_data",
          "data": {
            "text/plain": [
              "<Figure size 432x288 with 1 Axes>"
            ],
            "image/png": "[encoded data removed]"
          },
          "metadata": {
            "needs_background": "light"
          }
        }
      ]
    },
    {
      "cell_type": "code",
      "source": [
        "measurements.mean()"
      ],
      "metadata": {
        "colab": {
          "base_uri": "https://localhost:8080/"
        },
        "id": "K2FFGgi6ULOy",
        "outputId": "9146ed8f-94c1-48dd-afb8-c9358d33992b"
      },
      "id": "K2FFGgi6ULOy",
      "execution_count": null,
      "outputs": [
        {
          "output_type": "stream",
          "name": "stderr",
          "text": [
            "<ipython-input-20-50f1dd476cdc>:1: FutureWarning: Dropping of nuisance columns in DataFrame reductions (with 'numeric_only=None') is deprecated; in a future version this will raise TypeError.  Select only valid columns before calling the reduction.\n",
            "  measurements.mean()\n"
          ]
        },
        {
          "output_type": "execute_result",
          "data": {
            "text/plain": [
              "              1126.500000\n",
              "Area           323.541741\n",
              "Mean           255.000000\n",
              "Min            255.000000\n",
              "Max            255.000000\n",
              "Perim.          66.689000\n",
              "IntDen       82503.143872\n",
              "RawIntDen    82503.143872\n",
              "dtype: float64"
            ]
          },
          "metadata": {},
          "execution_count": 20
        }
      ]
    },
    {
      "cell_type": "code",
      "source": [
        "measurements.std()"
      ],
      "metadata": {
        "colab": {
          "base_uri": "https://localhost:8080/"
        },
        "id": "lLjAC7uEUduM",
        "outputId": "1170b2d5-9e27-402b-9bc9-705386ae2146"
      },
      "id": "lLjAC7uEUduM",
      "execution_count": null,
      "outputs": [
        {
          "output_type": "stream",
          "name": "stderr",
          "text": [
            "<ipython-input-21-4f69c42751f2>:1: FutureWarning: Dropping of nuisance columns in DataFrame reductions (with 'numeric_only=None') is deprecated; in a future version this will raise TypeError.  Select only valid columns before calling the reduction.\n",
            "  measurements.std()\n"
          ]
        },
        {
          "output_type": "execute_result",
          "data": {
            "text/plain": [
              "               650.240725\n",
              "Area            72.868854\n",
              "Mean             0.000000\n",
              "Min              0.000000\n",
              "Max              0.000000\n",
              "Perim.           7.717958\n",
              "IntDen       18581.557746\n",
              "RawIntDen    18581.557746\n",
              "dtype: float64"
            ]
          },
          "metadata": {},
          "execution_count": 21
        }
      ]
    },
    {
      "cell_type": "markdown",
      "source": [
        "### **Describe your interpretation of the distribution of the measurements of nuclear area below.**\n",
        "Based on what you see, would you choose different value ranges of particle sizes for counting? Explain why.\n",
        "\n",
        "\n",
        "=> I would. Even though I tried to seperate the nuclei, there were some nuclei particles that seem to be merged. Therefore, I would use the range that has less maximum size than 500."
      ],
      "metadata": {
        "id": "bLvOMj_mJvxi"
      },
      "id": "bLvOMj_mJvxi"
    },
    {
      "cell_type": "code",
      "source": [],
      "metadata": {
        "id": "HxAA7ad9U3Tx"
      },
      "id": "HxAA7ad9U3Tx",
      "execution_count": null,
      "outputs": []
    }
  ],
  "metadata": {
    "colab": {
      "provenance": [],
      "include_colab_link": true
    },
    "kernelspec": {
      "display_name": "Python 3 (ipykernel)",
      "language": "python",
      "name": "python3"
    },
    "language_info": {
      "codemirror_mode": {
        "name": "ipython",
        "version": 3
      },
      "file_extension": ".py",
      "mimetype": "text/x-python",
      "name": "python",
      "nbconvert_exporter": "python",
      "pygments_lexer": "ipython3",
      "version": "3.7.11"
    }
  },
  "nbformat": 4,
  "nbformat_minor": 5
}